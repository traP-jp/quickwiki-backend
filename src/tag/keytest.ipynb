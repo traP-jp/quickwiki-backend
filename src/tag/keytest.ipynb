{
 "cells": [
  {
   "cell_type": "code",
   "id": "initial_id",
   "metadata": {
    "ExecuteTime": {
     "end_time": "2024-08-18T02:54:00.706752Z",
     "start_time": "2024-08-18T02:54:00.680450Z"
    }
   },
   "source": [
    "import pke\n",
    "from pke.lang import stopwords\n",
    "from torch.ao.nn.quantized.functional import threshold\n",
    "pke.base.ISO_to_languege['ja_ginza'] = 'japanese'\n",
    "import ginza\n",
    "import nltk\n",
    "\n",
    "stopwords = list(ginza.STOP_WORDS)"
   ],
   "outputs": [
    {
     "ename": "AttributeError",
     "evalue": "module 'pke.base' has no attribute 'ISO_to_languege'",
     "output_type": "error",
     "traceback": [
      "\u001B[0;31m---------------------------------------------------------------------------\u001B[0m",
      "\u001B[0;31mAttributeError\u001B[0m                            Traceback (most recent call last)",
      "Cell \u001B[0;32mIn[7], line 4\u001B[0m\n\u001B[1;32m      2\u001B[0m \u001B[38;5;28;01mfrom\u001B[39;00m \u001B[38;5;21;01mpke\u001B[39;00m\u001B[38;5;21;01m.\u001B[39;00m\u001B[38;5;21;01mlang\u001B[39;00m \u001B[38;5;28;01mimport\u001B[39;00m stopwords\n\u001B[1;32m      3\u001B[0m \u001B[38;5;28;01mfrom\u001B[39;00m \u001B[38;5;21;01mtorch\u001B[39;00m\u001B[38;5;21;01m.\u001B[39;00m\u001B[38;5;21;01mao\u001B[39;00m\u001B[38;5;21;01m.\u001B[39;00m\u001B[38;5;21;01mnn\u001B[39;00m\u001B[38;5;21;01m.\u001B[39;00m\u001B[38;5;21;01mquantized\u001B[39;00m\u001B[38;5;21;01m.\u001B[39;00m\u001B[38;5;21;01mfunctional\u001B[39;00m \u001B[38;5;28;01mimport\u001B[39;00m threshold\n\u001B[0;32m----> 4\u001B[0m \u001B[43mpke\u001B[49m\u001B[38;5;241;43m.\u001B[39;49m\u001B[43mbase\u001B[49m\u001B[38;5;241;43m.\u001B[39;49m\u001B[43mISO_to_languege\u001B[49m[\u001B[38;5;124m'\u001B[39m\u001B[38;5;124mja_ginza\u001B[39m\u001B[38;5;124m'\u001B[39m] \u001B[38;5;241m=\u001B[39m \u001B[38;5;124m'\u001B[39m\u001B[38;5;124mjapanese\u001B[39m\u001B[38;5;124m'\u001B[39m\n\u001B[1;32m      5\u001B[0m \u001B[38;5;28;01mimport\u001B[39;00m \u001B[38;5;21;01mginza\u001B[39;00m\n\u001B[1;32m      6\u001B[0m \u001B[38;5;28;01mimport\u001B[39;00m \u001B[38;5;21;01mnltk\u001B[39;00m\n",
      "\u001B[0;31mAttributeError\u001B[0m: module 'pke.base' has no attribute 'ISO_to_languege'"
     ]
    }
   ],
   "execution_count": 7
  },
  {
   "metadata": {
    "ExecuteTime": {
     "end_time": "2024-08-18T02:53:48.132517Z",
     "start_time": "2024-08-18T02:53:48.086435Z"
    }
   },
   "cell_type": "code",
   "source": [
    "nltk.corpus.stopwords.words_org = nltk.corpus.stopwords.words \n",
    "nltk.corpus.stopwords.words = lambda lang : stopwords if lang == 'japanese' else nltk.corpus.stopwords.words_org(lang)"
   ],
   "id": "e85c1dc1ad8406d5",
   "outputs": [
    {
     "ename": "NameError",
     "evalue": "name 'nltk' is not defined",
     "output_type": "error",
     "traceback": [
      "\u001B[0;31m---------------------------------------------------------------------------\u001B[0m",
      "\u001B[0;31mNameError\u001B[0m                                 Traceback (most recent call last)",
      "Cell \u001B[0;32mIn[6], line 1\u001B[0m\n\u001B[0;32m----> 1\u001B[0m nltk\u001B[38;5;241m.\u001B[39mcorpus\u001B[38;5;241m.\u001B[39mstopwords\u001B[38;5;241m.\u001B[39mwords_org \u001B[38;5;241m=\u001B[39m \u001B[43mnltk\u001B[49m\u001B[38;5;241m.\u001B[39mcorpus\u001B[38;5;241m.\u001B[39mstopwords\u001B[38;5;241m.\u001B[39mwords \n\u001B[1;32m      2\u001B[0m nltk\u001B[38;5;241m.\u001B[39mcorpus\u001B[38;5;241m.\u001B[39mstopwords\u001B[38;5;241m.\u001B[39mwords \u001B[38;5;241m=\u001B[39m \u001B[38;5;28;01mlambda\u001B[39;00m lang : stopwords \u001B[38;5;28;01mif\u001B[39;00m lang \u001B[38;5;241m==\u001B[39m \u001B[38;5;124m'\u001B[39m\u001B[38;5;124mjapanese\u001B[39m\u001B[38;5;124m'\u001B[39m \u001B[38;5;28;01melse\u001B[39;00m nltk\u001B[38;5;241m.\u001B[39mcorpus\u001B[38;5;241m.\u001B[39mstopwords\u001B[38;5;241m.\u001B[39mwords_org(lang)\n",
      "\u001B[0;31mNameError\u001B[0m: name 'nltk' is not defined"
     ]
    }
   ],
   "execution_count": 6
  },
  {
   "cell_type": "code",
   "id": "3d92e1849fa3eeda",
   "metadata": {
    "ExecuteTime": {
     "end_time": "2024-08-18T02:41:51.555118Z",
     "start_time": "2024-08-18T02:41:51.549402Z"
    }
   },
   "source": "text = \"1885年（明治18年）9月に明治政府指定の旧国道8号[注釈 1]として開通した当時は馬車の通行が可能な規格で整備されており、馬車同士がすれ違うこともできたほどの幅員の広い車道で、新潟県側の最奥部付近には短いながらもトンネルが設けられるなど、当時としては破格な高規格の山岳道路だった。しかし開通から程なくして各所で土砂崩れや雪崩などによる路盤決壊や橋の流失が相次ぎ、前述のトンネルも崩壊埋没してしまい、ついには車両通行そのものが完全に不可能となってしまった。その後現在に至るまで車道として再開通させる具体的な計画は立てられていない[21]。群馬県側は、谷川岳ロープウェイ土合口駅前先の谷川岳登山指導センター下（谷川岳山岳資料館前） - 一ノ倉沢（車道終点）の区間で一般車両の通行が通年規制されている（冬季は歩行者を含め通行止め）[22][23]。冬季閉鎖期間外は、みなかみ町が土合口駅前 - 一ノ倉沢間で観光向け電気バスを運行している[22]。その先の一ノ倉沢 - 芝倉沢 - 清水峠 - 居坪坂（井坪坂）分岐の区間は徒歩で通行可能[24]。ただし、峠上にある掘割の部分は現在では登山道として活用されていない。新潟県側の居坪坂[注釈 12]によりバイパスされた区間は、法令上はれっきとした現役の国道であり続けていながら、すでに自然に還っている[24]。この区間では先述のトンネルの崩壊により早い時期から歩行者すら通り抜け不能となっているため、事実上の廃道状態となって100年以上が経過しており、徒歩通行どころか立ち入ることさえも困難なほど壊滅的に荒廃している[21]。代替ルートとして、登山者は清水峠から居坪坂もしくは明治期以前の古道である十五里尾根（謙信尾根）の登山道を経由して清水へ向かうことになる[24]。\"",
   "outputs": [],
   "execution_count": 3
  },
  {
   "cell_type": "code",
   "id": "11643b4055c19a5e",
   "metadata": {
    "ExecuteTime": {
     "end_time": "2024-08-18T02:41:51.600600Z",
     "start_time": "2024-08-18T02:41:51.594726Z"
    }
   },
   "source": [
    "extractor = pke.unsupervised.MultipartiteRank()"
   ],
   "outputs": [],
   "execution_count": 4
  },
  {
   "cell_type": "code",
   "id": "cac24a5e1fa71733",
   "metadata": {
    "ExecuteTime": {
     "end_time": "2024-08-18T02:44:19.960952Z",
     "start_time": "2024-08-18T02:44:05.306619Z"
    }
   },
   "source": [
    "extractor.load_document(input=text, language='ja', normalization=None)\n",
    "extractor.candidate_selection(pos={'NOUN', 'PROPN', 'ADJ', 'NUM'})\n",
    "extractor.candidate_weighting(threshold=0.74, method='average', alpha=1.1)"
   ],
   "outputs": [
    {
     "name": "stderr",
     "output_type": "stream",
     "text": [
      "WARNING:root:No stoplist available in pke for 'ja' language.\n",
      "/home/utfo/.local/lib/python3.10/site-packages/huggingface_hub/file_download.py:1150: FutureWarning: `resume_download` is deprecated and will be removed in version 1.0.0. Downloads always resume when possible. If you want to force a new download, use `force_download=True`.\n",
      "  warnings.warn(\n",
      "error We couldn't connect to 'https://huggingface.co' to load this file, couldn't find it in the cached files and it looks like megagonlabs/transformers-ud-japanese-electra-base-ginza-510 is not the path to a directory containing a file named config.json.\n",
      "Checkout your internet connection or see how to run the library in offline mode at 'https://huggingface.co/docs/transformers/installation#offline-mode'.\n",
      "error Can't load the configuration of '/tmp/tmpzmvhaykz/config.json'. If you were trying to load it from 'https://huggingface.co/models', make sure you don't have a local directory with the same name. Otherwise, make sure '/tmp/tmpzmvhaykz/config.json' is the correct path to a directory containing a config.json file\n",
      "trying to download model from huggingface hub: megagonlabs/transformers-ud-japanese-electra-base-ginza-510 ...\n"
     ]
    },
    {
     "data": {
      "text/plain": [
       "config.json:   0%|          | 0.00/815 [00:00<?, ?B/s]"
      ],
      "application/vnd.jupyter.widget-view+json": {
       "version_major": 2,
       "version_minor": 0,
       "model_id": "86f193ccd6804ae59c50baa250f7b1e0"
      }
     },
     "metadata": {},
     "output_type": "display_data"
    },
    {
     "name": "stderr",
     "output_type": "stream",
     "text": [
      "/home/utfo/.local/lib/python3.10/site-packages/huggingface_hub/file_download.py:1150: FutureWarning: `resume_download` is deprecated and will be removed in version 1.0.0. Downloads always resume when possible. If you want to force a new download, use `force_download=True`.\n",
      "  warnings.warn(\n"
     ]
    },
    {
     "data": {
      "text/plain": [
       "pytorch_model.bin:   0%|          | 0.00/434M [00:00<?, ?B/s]"
      ],
      "application/vnd.jupyter.widget-view+json": {
       "version_major": 2,
       "version_minor": 0,
       "model_id": "50397746e4bf4f8dba72bdf301be1f12"
      }
     },
     "metadata": {},
     "output_type": "display_data"
    },
    {
     "name": "stderr",
     "output_type": "stream",
     "text": [
      "/home/utfo/.local/lib/python3.10/site-packages/transformers/modeling_utils.py:399: FutureWarning: You are using `torch.load` with `weights_only=False` (the current default value), which uses the default pickle module implicitly. It is possible to construct malicious pickle data which will execute arbitrary code during unpickling (See https://github.com/pytorch/pytorch/blob/main/SECURITY.md#untrusted-models for more details). In a future release, the default value for `weights_only` will be flipped to `True`. This limits the functions that could be executed during unpickling. Arbitrary objects will no longer be allowed to be loaded via this mode unless they are explicitly allowlisted by the user via `torch.serialization.add_safe_globals`. We recommend you start setting `weights_only=True` for any use case where you don't have full control of the loaded file. Please open an issue on GitHub for any issues related to this experimental feature.\n",
      "  return torch.load(checkpoint_file, map_location=\"cpu\")\n",
      "succeded\n",
      "/home/utfo/.local/lib/python3.10/site-packages/thinc/shims/pytorch.py:114: FutureWarning: `torch.cuda.amp.autocast(args...)` is deprecated. Please use `torch.amp.autocast('cuda', args...)` instead.\n",
      "  with torch.cuda.amp.autocast(self._mixed_precision):\n"
     ]
    }
   ],
   "execution_count": 5
  },
  {
   "metadata": {},
   "cell_type": "code",
   "outputs": [],
   "execution_count": null,
   "source": "",
   "id": "3c5534e680e8402"
  }
 ],
 "metadata": {
  "kernelspec": {
   "display_name": "Python 3 (ipykernel)",
   "language": "python",
   "name": "python3"
  },
  "language_info": {
   "codemirror_mode": {
    "name": "ipython",
    "version": 3
   },
   "file_extension": ".py",
   "mimetype": "text/x-python",
   "name": "python",
   "nbconvert_exporter": "python",
   "pygments_lexer": "ipython3",
   "version": "3.12.3"
  }
 },
 "nbformat": 4,
 "nbformat_minor": 5
}
