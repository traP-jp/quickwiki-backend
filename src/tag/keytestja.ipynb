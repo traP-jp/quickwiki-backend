{
 "cells": [
  {
   "cell_type": "code",
   "id": "initial_id",
   "metadata": {
    "collapsed": true,
    "jupyter": {
     "is_executing": true
    }
   },
   "source": "import pke",
   "outputs": [],
   "execution_count": null
  },
  {
   "metadata": {},
   "cell_type": "code",
   "source": "extractor = pke.unsupervised.TopicRank()",
   "id": "44a16eace18b6f62",
   "outputs": [],
   "execution_count": null
  },
  {
   "metadata": {
    "ExecuteTime": {
     "end_time": "2024-08-18T03:34:31.061078Z",
     "start_time": "2024-08-18T03:34:31.055549Z"
    }
   },
   "cell_type": "code",
   "source": "test = \"日本のテレビ番組に出るために1974年2月に初来日した時の記憶は、今もなお鮮明で、私の心の中に力強く刻まれています。なぜならば、日本の人々、子供たちも含めて、私を大変温かく受け入れてくれたからです。あれから50年経ちますが、現在も日本のファンからたくさんのメールが届き、心温かくてポジティブな日本の皆さんの印象は半世紀経ても何ひとつ変わっていません。1970年代に日本ヘルスメーカーのルームランナーのCMに出演したこともいい思い出です。　初来日以降、日本には公私で数えきれないほど訪れ、多くのアメージングな経験をしました。実は約1年間、富士山の麓の山中湖の近くの小屋に家族で暮らしていたことがあります。NYでジョン・レノンとヨーコ・オノが、心身ともに困憊して激やせしていた私を見て、日本での生活を勧めてくれたのです。それまで名声や富にとらわれていましたが、富士山をはじめ、母なる自然のエネルギー、日本と日本人が持つスピリチュアリティは、お金より大事なものに気づかせてくれ、私の人生をよりよいものに変えました。　私は現在、故郷イスラエルに住んでいます。テルアビブ郊外のヤッファに私財を投じて建設した「ユリ・ゲラー博物館」を経営し、自らツアーガイドもしています。博物館の前には世界一大きい長さ16メートルの曲がったスプーンを展示し、日本の方々のために日本語での説明も付けてあります。　館内にはジョン・レノンが宇宙人からもらったという金色の卵形の物体、マイケル・ジャクソンら多くの大スターゆかりのコレクションなども展示し、楽しんでいただいています。博物館の収益は心臓病の子供たちのための基金に寄付し、支援活動にも力を注いでいます。\"",
   "id": "5078f559f316e3d",
   "outputs": [],
   "execution_count": 59
  },
  {
   "metadata": {
    "ExecuteTime": {
     "end_time": "2024-08-18T03:34:44.896369Z",
     "start_time": "2024-08-18T03:34:31.103512Z"
    }
   },
   "cell_type": "code",
   "source": "extractor.load_document(input=test, language='ja')",
   "id": "cb21a3f229cd44cf",
   "outputs": [
    {
     "name": "stderr",
     "output_type": "stream",
     "text": [
      "WARNING:root:No stoplist available in pke for 'ja' language.\n",
      "/home/utfo/.local/lib/python3.10/site-packages/huggingface_hub/file_download.py:1150: FutureWarning: `resume_download` is deprecated and will be removed in version 1.0.0. Downloads always resume when possible. If you want to force a new download, use `force_download=True`.\n",
      "  warnings.warn(\n",
      "/home/utfo/.local/lib/python3.10/site-packages/transformers/modeling_utils.py:399: FutureWarning: You are using `torch.load` with `weights_only=False` (the current default value), which uses the default pickle module implicitly. It is possible to construct malicious pickle data which will execute arbitrary code during unpickling (See https://github.com/pytorch/pytorch/blob/main/SECURITY.md#untrusted-models for more details). In a future release, the default value for `weights_only` will be flipped to `True`. This limits the functions that could be executed during unpickling. Arbitrary objects will no longer be allowed to be loaded via this mode unless they are explicitly allowlisted by the user via `torch.serialization.add_safe_globals`. We recommend you start setting `weights_only=True` for any use case where you don't have full control of the loaded file. Please open an issue on GitHub for any issues related to this experimental feature.\n",
      "  return torch.load(checkpoint_file, map_location=\"cpu\")\n",
      "/home/utfo/.local/lib/python3.10/site-packages/thinc/shims/pytorch.py:114: FutureWarning: `torch.cuda.amp.autocast(args...)` is deprecated. Please use `torch.amp.autocast('cuda', args...)` instead.\n",
      "  with torch.cuda.amp.autocast(self._mixed_precision):\n",
      "WARNING:root:No stemmer available in pke for 'ja' language -> falling back to porter stemmer.\n"
     ]
    }
   ],
   "execution_count": 60
  },
  {
   "metadata": {
    "ExecuteTime": {
     "end_time": "2024-08-18T03:34:44.940568Z",
     "start_time": "2024-08-18T03:34:44.937601Z"
    }
   },
   "cell_type": "code",
   "source": "",
   "id": "f6a3f29b63739d57",
   "outputs": [],
   "execution_count": null
  },
  {
   "metadata": {
    "ExecuteTime": {
     "end_time": "2024-08-18T03:34:45.054235Z",
     "start_time": "2024-08-18T03:34:44.994039Z"
    }
   },
   "cell_type": "code",
   "source": [
    "extractor.candidate_selection(pos={'NOUN', 'PROPN'})\n",
    "extractor.candidate_weighting()\n",
    "data = extractor.get_n_best(n=30)"
   ],
   "id": "3e734bd97157fa0c",
   "outputs": [],
   "execution_count": 61
  },
  {
   "metadata": {
    "ExecuteTime": {
     "end_time": "2024-08-18T03:34:45.125518Z",
     "start_time": "2024-08-18T03:34:45.083392Z"
    }
   },
   "cell_type": "code",
   "source": [
    "import pandas as pd\n",
    "df = pd.DataFrame(data)\n",
    "print(df)"
   ],
   "id": "e816b7accd49e8b1",
   "outputs": [
    {
     "name": "stdout",
     "output_type": "stream",
     "text": [
      "              0         1\n",
      "0           構造物  0.101365\n",
      "1   coccosphere  0.074264\n",
      "2         生物 由来  0.071217\n",
      "3         細胞 全体  0.058717\n",
      "4        murray  0.047449\n",
      "5      blackman  0.047378\n",
      "6         ワイヴィル  0.045306\n",
      "7          トムソン  0.044693\n",
      "8      炭酸 カルシウム  0.040443\n",
      "9       エーレンベルク  0.039854\n",
      "10          結晶化  0.037827\n",
      "11          色素体  0.036790\n",
      "12    coccolith  0.036182\n",
      "13          化学的  0.035431\n",
      "14          原形質  0.034118\n",
      "15          堆積物  0.034099\n",
      "16          幾何学  0.032904\n",
      "17    その後 ハクスリー  0.031758\n",
      "18          ウォー  0.031595\n",
      "19          持ち主  0.030283\n",
      "20          生活環  0.029922\n",
      "21         ソービー  0.029472\n",
      "22        石灰 岩層  0.028933\n"
     ]
    }
   ],
   "execution_count": 62
  },
  {
   "metadata": {
    "ExecuteTime": {
     "end_time": "2024-08-18T03:34:45.198815Z",
     "start_time": "2024-08-18T03:34:45.179950Z"
    }
   },
   "cell_type": "code",
   "source": "df",
   "id": "8f92fb9f35dd4444",
   "outputs": [
    {
     "data": {
      "text/plain": [
       "              0         1\n",
       "0           構造物  0.101365\n",
       "1   coccosphere  0.074264\n",
       "2         生物 由来  0.071217\n",
       "3         細胞 全体  0.058717\n",
       "4        murray  0.047449\n",
       "5      blackman  0.047378\n",
       "6         ワイヴィル  0.045306\n",
       "7          トムソン  0.044693\n",
       "8      炭酸 カルシウム  0.040443\n",
       "9       エーレンベルク  0.039854\n",
       "10          結晶化  0.037827\n",
       "11          色素体  0.036790\n",
       "12    coccolith  0.036182\n",
       "13          化学的  0.035431\n",
       "14          原形質  0.034118\n",
       "15          堆積物  0.034099\n",
       "16          幾何学  0.032904\n",
       "17    その後 ハクスリー  0.031758\n",
       "18          ウォー  0.031595\n",
       "19          持ち主  0.030283\n",
       "20          生活環  0.029922\n",
       "21         ソービー  0.029472\n",
       "22        石灰 岩層  0.028933"
      ],
      "text/html": [
       "<div>\n",
       "<style scoped>\n",
       "    .dataframe tbody tr th:only-of-type {\n",
       "        vertical-align: middle;\n",
       "    }\n",
       "\n",
       "    .dataframe tbody tr th {\n",
       "        vertical-align: top;\n",
       "    }\n",
       "\n",
       "    .dataframe thead th {\n",
       "        text-align: right;\n",
       "    }\n",
       "</style>\n",
       "<table border=\"1\" class=\"dataframe\">\n",
       "  <thead>\n",
       "    <tr style=\"text-align: right;\">\n",
       "      <th></th>\n",
       "      <th>0</th>\n",
       "      <th>1</th>\n",
       "    </tr>\n",
       "  </thead>\n",
       "  <tbody>\n",
       "    <tr>\n",
       "      <th>0</th>\n",
       "      <td>構造物</td>\n",
       "      <td>0.101365</td>\n",
       "    </tr>\n",
       "    <tr>\n",
       "      <th>1</th>\n",
       "      <td>coccosphere</td>\n",
       "      <td>0.074264</td>\n",
       "    </tr>\n",
       "    <tr>\n",
       "      <th>2</th>\n",
       "      <td>生物 由来</td>\n",
       "      <td>0.071217</td>\n",
       "    </tr>\n",
       "    <tr>\n",
       "      <th>3</th>\n",
       "      <td>細胞 全体</td>\n",
       "      <td>0.058717</td>\n",
       "    </tr>\n",
       "    <tr>\n",
       "      <th>4</th>\n",
       "      <td>murray</td>\n",
       "      <td>0.047449</td>\n",
       "    </tr>\n",
       "    <tr>\n",
       "      <th>5</th>\n",
       "      <td>blackman</td>\n",
       "      <td>0.047378</td>\n",
       "    </tr>\n",
       "    <tr>\n",
       "      <th>6</th>\n",
       "      <td>ワイヴィル</td>\n",
       "      <td>0.045306</td>\n",
       "    </tr>\n",
       "    <tr>\n",
       "      <th>7</th>\n",
       "      <td>トムソン</td>\n",
       "      <td>0.044693</td>\n",
       "    </tr>\n",
       "    <tr>\n",
       "      <th>8</th>\n",
       "      <td>炭酸 カルシウム</td>\n",
       "      <td>0.040443</td>\n",
       "    </tr>\n",
       "    <tr>\n",
       "      <th>9</th>\n",
       "      <td>エーレンベルク</td>\n",
       "      <td>0.039854</td>\n",
       "    </tr>\n",
       "    <tr>\n",
       "      <th>10</th>\n",
       "      <td>結晶化</td>\n",
       "      <td>0.037827</td>\n",
       "    </tr>\n",
       "    <tr>\n",
       "      <th>11</th>\n",
       "      <td>色素体</td>\n",
       "      <td>0.036790</td>\n",
       "    </tr>\n",
       "    <tr>\n",
       "      <th>12</th>\n",
       "      <td>coccolith</td>\n",
       "      <td>0.036182</td>\n",
       "    </tr>\n",
       "    <tr>\n",
       "      <th>13</th>\n",
       "      <td>化学的</td>\n",
       "      <td>0.035431</td>\n",
       "    </tr>\n",
       "    <tr>\n",
       "      <th>14</th>\n",
       "      <td>原形質</td>\n",
       "      <td>0.034118</td>\n",
       "    </tr>\n",
       "    <tr>\n",
       "      <th>15</th>\n",
       "      <td>堆積物</td>\n",
       "      <td>0.034099</td>\n",
       "    </tr>\n",
       "    <tr>\n",
       "      <th>16</th>\n",
       "      <td>幾何学</td>\n",
       "      <td>0.032904</td>\n",
       "    </tr>\n",
       "    <tr>\n",
       "      <th>17</th>\n",
       "      <td>その後 ハクスリー</td>\n",
       "      <td>0.031758</td>\n",
       "    </tr>\n",
       "    <tr>\n",
       "      <th>18</th>\n",
       "      <td>ウォー</td>\n",
       "      <td>0.031595</td>\n",
       "    </tr>\n",
       "    <tr>\n",
       "      <th>19</th>\n",
       "      <td>持ち主</td>\n",
       "      <td>0.030283</td>\n",
       "    </tr>\n",
       "    <tr>\n",
       "      <th>20</th>\n",
       "      <td>生活環</td>\n",
       "      <td>0.029922</td>\n",
       "    </tr>\n",
       "    <tr>\n",
       "      <th>21</th>\n",
       "      <td>ソービー</td>\n",
       "      <td>0.029472</td>\n",
       "    </tr>\n",
       "    <tr>\n",
       "      <th>22</th>\n",
       "      <td>石灰 岩層</td>\n",
       "      <td>0.028933</td>\n",
       "    </tr>\n",
       "  </tbody>\n",
       "</table>\n",
       "</div>"
      ]
     },
     "execution_count": 63,
     "metadata": {},
     "output_type": "execute_result"
    }
   ],
   "execution_count": 63
  },
  {
   "metadata": {
    "ExecuteTime": {
     "end_time": "2024-08-18T03:34:45.314961Z",
     "start_time": "2024-08-18T03:34:45.311715Z"
    }
   },
   "cell_type": "code",
   "source": "",
   "id": "7cc9849eb6fbba6",
   "outputs": [],
   "execution_count": null
  }
 ],
 "metadata": {
  "kernelspec": {
   "display_name": "Python 3",
   "language": "python",
   "name": "python3"
  },
  "language_info": {
   "codemirror_mode": {
    "name": "ipython",
    "version": 2
   },
   "file_extension": ".py",
   "mimetype": "text/x-python",
   "name": "python",
   "nbconvert_exporter": "python",
   "pygments_lexer": "ipython2",
   "version": "2.7.6"
  }
 },
 "nbformat": 4,
 "nbformat_minor": 5
}
