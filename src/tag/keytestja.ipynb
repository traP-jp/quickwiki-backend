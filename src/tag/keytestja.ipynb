{
 "cells": [
  {
   "cell_type": "code",
   "id": "initial_id",
   "metadata": {
    "collapsed": true,
    "ExecuteTime": {
     "end_time": "2024-08-18T03:17:46.334404Z",
     "start_time": "2024-08-18T03:17:46.330764Z"
    }
   },
   "source": "import pke",
   "outputs": [],
   "execution_count": 50
  },
  {
   "metadata": {
    "ExecuteTime": {
     "end_time": "2024-08-18T03:17:46.393399Z",
     "start_time": "2024-08-18T03:17:46.387661Z"
    }
   },
   "cell_type": "code",
   "source": "extractor = pke.unsupervised.TopicRank()",
   "id": "44a16eace18b6f62",
   "outputs": [],
   "execution_count": 51
  },
  {
   "metadata": {
    "ExecuteTime": {
     "end_time": "2024-08-18T03:17:46.448168Z",
     "start_time": "2024-08-18T03:17:46.443720Z"
    }
   },
   "cell_type": "code",
   "source": "test = \"経済規模がいくら大きくなっても、物価高に苦しむ国民の多くは実感が湧かないだろう。今年4～6月期の名目国内総生産（GDP）が年換算で初めて600兆円を超えた。「戦後最大の経済」を目指した安倍晋三元首相が2015年にアベノミクスの柱に据えた目標である。引き継いだ岸田文雄首相は「成長型経済への移行を示す数字だ」と自賛した。だが政権の成果とは言い難い。名目成長率はバブル期並みの7％強に達したが、押し上げたのは物価高だ。ウクライナ危機に伴うエネルギー・食料不足が引き金となり、大幅な円安が拍車をかけた。　物価上昇を差し引いた実質は550兆円台にとどまる。ウクライナ危機前とほぼ変わらず、国民がより豊かになったわけではない。実質の成長率は3％台と1～3月期のマイナスからは回復した。ただ、ダイハツ工業などの不正による自動車の生産停止で落ち込んだ分が持ち直したに過ぎないと指摘される。国民が生活を切り詰める傾向は依然として根強い。物価上昇を除いた実質賃金は6月、2年3カ月ぶりに前年比でプラスとなったが、ボーナスの増加という一時的な要因が大きい。家計の消費支出は低調なままだ。6月に始まった首相肝煎りの定額減税も消費を押し上げる効果は限定的との見方が強い。将来の暮らしに不安を抱える家庭が貯蓄に回すケースも少なくないからだ。最近の急速な円高など不安定な金融市場も懸念材料である。円安で押し上げられた企業の業績が悪化すれば、今後の賃上げにマイナスに働きかねない。物価高の打撃は低所得者に集中する。首相は当初、分配を重視する姿勢を示していたが、成長優先のアベノミクスに回帰した。低所得者には給付金支給というその場しのぎの対応を繰り返した。格差是正に本格的に取り組まず、非正規雇用の比率は4割近くに高止まりしている。低賃金労働に依存する構造を変えなかったため、消費の停滞からも脱却できなかったのではないか。首相の退陣表明で、経済の再生は新政権に持ち越された。規模のアピールではなく、暮らしを底上げする政策こそ優先すべきだ。\"",
   "id": "5078f559f316e3d",
   "outputs": [],
   "execution_count": 52
  },
  {
   "metadata": {
    "ExecuteTime": {
     "end_time": "2024-08-18T03:17:52.736378Z",
     "start_time": "2024-08-18T03:17:46.518714Z"
    }
   },
   "cell_type": "code",
   "source": "extractor.load_document(input=test, language='ja')",
   "id": "cb21a3f229cd44cf",
   "outputs": [
    {
     "name": "stderr",
     "output_type": "stream",
     "text": [
      "WARNING:root:No stoplist available in pke for 'ja' language.\n",
      "/home/utfo/.local/lib/python3.10/site-packages/huggingface_hub/file_download.py:1150: FutureWarning: `resume_download` is deprecated and will be removed in version 1.0.0. Downloads always resume when possible. If you want to force a new download, use `force_download=True`.\n",
      "  warnings.warn(\n",
      "/home/utfo/.local/lib/python3.10/site-packages/transformers/modeling_utils.py:399: FutureWarning: You are using `torch.load` with `weights_only=False` (the current default value), which uses the default pickle module implicitly. It is possible to construct malicious pickle data which will execute arbitrary code during unpickling (See https://github.com/pytorch/pytorch/blob/main/SECURITY.md#untrusted-models for more details). In a future release, the default value for `weights_only` will be flipped to `True`. This limits the functions that could be executed during unpickling. Arbitrary objects will no longer be allowed to be loaded via this mode unless they are explicitly allowlisted by the user via `torch.serialization.add_safe_globals`. We recommend you start setting `weights_only=True` for any use case where you don't have full control of the loaded file. Please open an issue on GitHub for any issues related to this experimental feature.\n",
      "  return torch.load(checkpoint_file, map_location=\"cpu\")\n",
      "/home/utfo/.local/lib/python3.10/site-packages/thinc/shims/pytorch.py:114: FutureWarning: `torch.cuda.amp.autocast(args...)` is deprecated. Please use `torch.amp.autocast('cuda', args...)` instead.\n",
      "  with torch.cuda.amp.autocast(self._mixed_precision):\n",
      "WARNING:root:No stemmer available in pke for 'ja' language -> falling back to porter stemmer.\n"
     ]
    }
   ],
   "execution_count": 53
  },
  {
   "metadata": {
    "ExecuteTime": {
     "end_time": "2024-08-18T03:17:52.793371Z",
     "start_time": "2024-08-18T03:17:52.790251Z"
    }
   },
   "cell_type": "code",
   "source": "",
   "id": "f6a3f29b63739d57",
   "outputs": [],
   "execution_count": null
  },
  {
   "metadata": {
    "ExecuteTime": {
     "end_time": "2024-08-18T03:17:52.856582Z",
     "start_time": "2024-08-18T03:17:52.841667Z"
    }
   },
   "cell_type": "code",
   "source": [
    "extractor.candidate_selection(pos={'NOUN', 'PROPN'})\n",
    "extractor.candidate_weighting()\n",
    "data = extractor.get_n_best(n=30)"
   ],
   "id": "3e734bd97157fa0c",
   "outputs": [],
   "execution_count": 54
  },
  {
   "metadata": {
    "ExecuteTime": {
     "end_time": "2024-08-18T03:17:52.911336Z",
     "start_time": "2024-08-18T03:17:52.904356Z"
    }
   },
   "cell_type": "code",
   "source": [
    "import pandas as pd\n",
    "df = pd.DataFrame(data)\n",
    "print(df)"
   ],
   "id": "e816b7accd49e8b1",
   "outputs": [
    {
     "name": "stdout",
     "output_type": "stream",
     "text": [
      "           0         1\n",
      "0        物価高  0.058218\n",
      "1       低所得者  0.046998\n",
      "2       マイナス  0.046457\n",
      "3     アベノミクス  0.042669\n",
      "4      食料 不足  0.038713\n",
      "5      エネルギー  0.035776\n",
      "6   ウクライナ 危機  0.032103\n",
      "7        暮らし  0.031508\n",
      "8        自動車  0.030254\n",
      "9      成長 優先  0.030217\n",
      "10       引き金  0.030085\n",
      "11       賃上げ  0.030064\n",
      "12    首相 肝煎り  0.029691\n",
      "13     定額 減税  0.029445\n",
      "14     生産 停止  0.029271\n",
      "15     懸念 材料  0.028990\n",
      "16      金融市場  0.028825\n",
      "17    名目 成長率  0.027124\n",
      "18    給付金 支給  0.026384\n",
      "19       プラス  0.025883\n",
      "20     カ月 ぶり  0.025572\n",
      "21       gdp  0.025542\n",
      "22     実質 賃金  0.025484\n",
      "23  名目 国内総生産  0.025413\n",
      "24      物価上昇  0.023598\n",
      "25      ボーナス  0.023295\n",
      "26    ダイハツ工業  0.022398\n",
      "27     消費 支出  0.020713\n",
      "28       ケース  0.019810\n",
      "29     格差 是正  0.019733\n"
     ]
    }
   ],
   "execution_count": 55
  },
  {
   "metadata": {
    "ExecuteTime": {
     "end_time": "2024-08-18T03:19:40.798601Z",
     "start_time": "2024-08-18T03:19:40.769181Z"
    }
   },
   "cell_type": "code",
   "source": "df",
   "id": "8f92fb9f35dd4444",
   "outputs": [
    {
     "data": {
      "text/plain": [
       "           0         1\n",
       "0        物価高  0.058218\n",
       "1       低所得者  0.046998\n",
       "2       マイナス  0.046457\n",
       "3     アベノミクス  0.042669\n",
       "4      食料 不足  0.038713\n",
       "5      エネルギー  0.035776\n",
       "6   ウクライナ 危機  0.032103\n",
       "7        暮らし  0.031508\n",
       "8        自動車  0.030254\n",
       "9      成長 優先  0.030217\n",
       "10       引き金  0.030085\n",
       "11       賃上げ  0.030064\n",
       "12    首相 肝煎り  0.029691\n",
       "13     定額 減税  0.029445\n",
       "14     生産 停止  0.029271\n",
       "15     懸念 材料  0.028990\n",
       "16      金融市場  0.028825\n",
       "17    名目 成長率  0.027124\n",
       "18    給付金 支給  0.026384\n",
       "19       プラス  0.025883\n",
       "20     カ月 ぶり  0.025572\n",
       "21       gdp  0.025542\n",
       "22     実質 賃金  0.025484\n",
       "23  名目 国内総生産  0.025413\n",
       "24      物価上昇  0.023598\n",
       "25      ボーナス  0.023295\n",
       "26    ダイハツ工業  0.022398\n",
       "27     消費 支出  0.020713\n",
       "28       ケース  0.019810\n",
       "29     格差 是正  0.019733"
      ],
      "text/html": [
       "<div>\n",
       "<style scoped>\n",
       "    .dataframe tbody tr th:only-of-type {\n",
       "        vertical-align: middle;\n",
       "    }\n",
       "\n",
       "    .dataframe tbody tr th {\n",
       "        vertical-align: top;\n",
       "    }\n",
       "\n",
       "    .dataframe thead th {\n",
       "        text-align: right;\n",
       "    }\n",
       "</style>\n",
       "<table border=\"1\" class=\"dataframe\">\n",
       "  <thead>\n",
       "    <tr style=\"text-align: right;\">\n",
       "      <th></th>\n",
       "      <th>0</th>\n",
       "      <th>1</th>\n",
       "    </tr>\n",
       "  </thead>\n",
       "  <tbody>\n",
       "    <tr>\n",
       "      <th>0</th>\n",
       "      <td>物価高</td>\n",
       "      <td>0.058218</td>\n",
       "    </tr>\n",
       "    <tr>\n",
       "      <th>1</th>\n",
       "      <td>低所得者</td>\n",
       "      <td>0.046998</td>\n",
       "    </tr>\n",
       "    <tr>\n",
       "      <th>2</th>\n",
       "      <td>マイナス</td>\n",
       "      <td>0.046457</td>\n",
       "    </tr>\n",
       "    <tr>\n",
       "      <th>3</th>\n",
       "      <td>アベノミクス</td>\n",
       "      <td>0.042669</td>\n",
       "    </tr>\n",
       "    <tr>\n",
       "      <th>4</th>\n",
       "      <td>食料 不足</td>\n",
       "      <td>0.038713</td>\n",
       "    </tr>\n",
       "    <tr>\n",
       "      <th>5</th>\n",
       "      <td>エネルギー</td>\n",
       "      <td>0.035776</td>\n",
       "    </tr>\n",
       "    <tr>\n",
       "      <th>6</th>\n",
       "      <td>ウクライナ 危機</td>\n",
       "      <td>0.032103</td>\n",
       "    </tr>\n",
       "    <tr>\n",
       "      <th>7</th>\n",
       "      <td>暮らし</td>\n",
       "      <td>0.031508</td>\n",
       "    </tr>\n",
       "    <tr>\n",
       "      <th>8</th>\n",
       "      <td>自動車</td>\n",
       "      <td>0.030254</td>\n",
       "    </tr>\n",
       "    <tr>\n",
       "      <th>9</th>\n",
       "      <td>成長 優先</td>\n",
       "      <td>0.030217</td>\n",
       "    </tr>\n",
       "    <tr>\n",
       "      <th>10</th>\n",
       "      <td>引き金</td>\n",
       "      <td>0.030085</td>\n",
       "    </tr>\n",
       "    <tr>\n",
       "      <th>11</th>\n",
       "      <td>賃上げ</td>\n",
       "      <td>0.030064</td>\n",
       "    </tr>\n",
       "    <tr>\n",
       "      <th>12</th>\n",
       "      <td>首相 肝煎り</td>\n",
       "      <td>0.029691</td>\n",
       "    </tr>\n",
       "    <tr>\n",
       "      <th>13</th>\n",
       "      <td>定額 減税</td>\n",
       "      <td>0.029445</td>\n",
       "    </tr>\n",
       "    <tr>\n",
       "      <th>14</th>\n",
       "      <td>生産 停止</td>\n",
       "      <td>0.029271</td>\n",
       "    </tr>\n",
       "    <tr>\n",
       "      <th>15</th>\n",
       "      <td>懸念 材料</td>\n",
       "      <td>0.028990</td>\n",
       "    </tr>\n",
       "    <tr>\n",
       "      <th>16</th>\n",
       "      <td>金融市場</td>\n",
       "      <td>0.028825</td>\n",
       "    </tr>\n",
       "    <tr>\n",
       "      <th>17</th>\n",
       "      <td>名目 成長率</td>\n",
       "      <td>0.027124</td>\n",
       "    </tr>\n",
       "    <tr>\n",
       "      <th>18</th>\n",
       "      <td>給付金 支給</td>\n",
       "      <td>0.026384</td>\n",
       "    </tr>\n",
       "    <tr>\n",
       "      <th>19</th>\n",
       "      <td>プラス</td>\n",
       "      <td>0.025883</td>\n",
       "    </tr>\n",
       "    <tr>\n",
       "      <th>20</th>\n",
       "      <td>カ月 ぶり</td>\n",
       "      <td>0.025572</td>\n",
       "    </tr>\n",
       "    <tr>\n",
       "      <th>21</th>\n",
       "      <td>gdp</td>\n",
       "      <td>0.025542</td>\n",
       "    </tr>\n",
       "    <tr>\n",
       "      <th>22</th>\n",
       "      <td>実質 賃金</td>\n",
       "      <td>0.025484</td>\n",
       "    </tr>\n",
       "    <tr>\n",
       "      <th>23</th>\n",
       "      <td>名目 国内総生産</td>\n",
       "      <td>0.025413</td>\n",
       "    </tr>\n",
       "    <tr>\n",
       "      <th>24</th>\n",
       "      <td>物価上昇</td>\n",
       "      <td>0.023598</td>\n",
       "    </tr>\n",
       "    <tr>\n",
       "      <th>25</th>\n",
       "      <td>ボーナス</td>\n",
       "      <td>0.023295</td>\n",
       "    </tr>\n",
       "    <tr>\n",
       "      <th>26</th>\n",
       "      <td>ダイハツ工業</td>\n",
       "      <td>0.022398</td>\n",
       "    </tr>\n",
       "    <tr>\n",
       "      <th>27</th>\n",
       "      <td>消費 支出</td>\n",
       "      <td>0.020713</td>\n",
       "    </tr>\n",
       "    <tr>\n",
       "      <th>28</th>\n",
       "      <td>ケース</td>\n",
       "      <td>0.019810</td>\n",
       "    </tr>\n",
       "    <tr>\n",
       "      <th>29</th>\n",
       "      <td>格差 是正</td>\n",
       "      <td>0.019733</td>\n",
       "    </tr>\n",
       "  </tbody>\n",
       "</table>\n",
       "</div>"
      ]
     },
     "execution_count": 56,
     "metadata": {},
     "output_type": "execute_result"
    }
   ],
   "execution_count": 56
  },
  {
   "metadata": {},
   "cell_type": "code",
   "outputs": [],
   "execution_count": null,
   "source": "",
   "id": "7cc9849eb6fbba6"
  }
 ],
 "metadata": {
  "kernelspec": {
   "display_name": "Python 3",
   "language": "python",
   "name": "python3"
  },
  "language_info": {
   "codemirror_mode": {
    "name": "ipython",
    "version": 2
   },
   "file_extension": ".py",
   "mimetype": "text/x-python",
   "name": "python",
   "nbconvert_exporter": "python",
   "pygments_lexer": "ipython2",
   "version": "2.7.6"
  }
 },
 "nbformat": 4,
 "nbformat_minor": 5
}
