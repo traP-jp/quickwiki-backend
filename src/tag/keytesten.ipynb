{
 "cells": [
  {
   "cell_type": "code",
   "id": "initial_id",
   "metadata": {
    "collapsed": true,
    "ExecuteTime": {
     "end_time": "2024-08-18T02:55:38.992709Z",
     "start_time": "2024-08-18T02:55:33.690737Z"
    }
   },
   "source": [
    "import pke\n",
    "from nltk import extract"
   ],
   "outputs": [],
   "execution_count": 1
  },
  {
   "metadata": {
    "ExecuteTime": {
     "end_time": "2024-08-18T02:55:55.800405Z",
     "start_time": "2024-08-18T02:55:55.795722Z"
    }
   },
   "cell_type": "code",
   "source": "extractor = pke.unsupervised.TopicRank()",
   "id": "44a16eace18b6f62",
   "outputs": [],
   "execution_count": 2
  },
  {
   "metadata": {
    "ExecuteTime": {
     "end_time": "2024-08-18T02:56:56.989216Z",
     "start_time": "2024-08-18T02:56:56.983912Z"
    }
   },
   "cell_type": "code",
   "source": "test = \"From the end of the 19th century until the revolutionary events of the year 1917, the land on which the church is situated today belonged to the town residence of the Feodorovsky Gorodetsky monastery of the Nizhny Novgorod diocese.For several decades in the late 19th – early 20th century, thanks to the efforts of the Abbot Archimandrite Alexy (Yakovlev), the town residence gradually increased its presence in Saint-Petersburg. First, an icon case with Feodorovskaya Icon of the Mother of God and an icon of St. Alexander Nevsky was installed in the 3rd class passenger hall of the Nikolayevsky railway station.Then permission was given to erect a stone chapel near the gate of the goods depot. The chapel project was submitted for approval of Emperor Alexander III, and he suggested to build a church instead of the chapel. Thus in 1904, a small church of the Feodorovskaya Icon of the Mother of God and of St. Alexius, Metropolitan of Moscow, was consecrated in memory of the birth of Tsarevich Alexei. It stood approximately in the place where the brick-red 'Kremlin' wall is located today.However, Abbot Alexy was not content and in 1906 he petitioned to expand the territory of the town residence of Gorodetsky monastery for the construction of a new spacious church 'because of the tightness of the Aleksievskaya Church'. By 1909, the concept was 'to construct a stately monument to the successful 300-year reign of the Romanov Dynasty', as stated in the petition addressed to the St. Petersburg Metropolitan bishop. The Construction Committee was headed by major-general of His Majesty's council Dmitri Yakovlevich Dashkov, and worked under the patronage of Grand Duke Michail Alexandrovich, the Emperor's brother.\"",
   "id": "5078f559f316e3d",
   "outputs": [],
   "execution_count": 3
  },
  {
   "metadata": {
    "ExecuteTime": {
     "end_time": "2024-08-18T02:57:38.789685Z",
     "start_time": "2024-08-18T02:57:38.016253Z"
    }
   },
   "cell_type": "code",
   "source": "extractor.load_document(input=test, language='en')",
   "id": "cb21a3f229cd44cf",
   "outputs": [],
   "execution_count": 4
  },
  {
   "metadata": {
    "ExecuteTime": {
     "end_time": "2024-08-18T02:58:29.618748Z",
     "start_time": "2024-08-18T02:58:29.613324Z"
    }
   },
   "cell_type": "code",
   "source": "extractor.candidate_selection(pos={'NOUN', 'PROPN', 'ADJ', 'NUM'})",
   "id": "640a5727580dfaff",
   "outputs": [],
   "execution_count": 5
  },
  {
   "metadata": {
    "ExecuteTime": {
     "end_time": "2024-08-18T02:58:45.922268Z",
     "start_time": "2024-08-18T02:58:45.645804Z"
    }
   },
   "cell_type": "code",
   "source": "extractor.candidate_weighting()",
   "id": "9c464fa27bdde79b",
   "outputs": [],
   "execution_count": 6
  },
  {
   "metadata": {
    "ExecuteTime": {
     "end_time": "2024-08-18T02:59:01.172338Z",
     "start_time": "2024-08-18T02:59:01.168039Z"
    }
   },
   "cell_type": "code",
   "source": "print(extractor.get_n_best(n=10))",
   "id": "3e734bd97157fa0c",
   "outputs": [
    {
     "name": "stdout",
     "output_type": "stream",
     "text": [
      "[('church', 0.0564124514149561), ('icon case', 0.044178464727636035), ('town residence', 0.037832545326898864), ('stone chapel', 0.03494138671719946), ('abbot archimandrite alexy', 0.029273150558366604), ('mother', 0.028585922906481116), ('god', 0.027889292366314496), ('feodorovsky gorodetsky monastery', 0.026892835240459486), ('today', 0.025978609147239463), ('emperor alexander iii', 0.02499490439475357)]\n"
     ]
    }
   ],
   "execution_count": 7
  },
  {
   "metadata": {},
   "cell_type": "code",
   "outputs": [],
   "execution_count": null,
   "source": "",
   "id": "f1b6e5d0db83d95"
  }
 ],
 "metadata": {
  "kernelspec": {
   "display_name": "Python 3",
   "language": "python",
   "name": "python3"
  },
  "language_info": {
   "codemirror_mode": {
    "name": "ipython",
    "version": 2
   },
   "file_extension": ".py",
   "mimetype": "text/x-python",
   "name": "python",
   "nbconvert_exporter": "python",
   "pygments_lexer": "ipython2",
   "version": "2.7.6"
  }
 },
 "nbformat": 4,
 "nbformat_minor": 5
}
